{
 "cells": [
  {
   "attachments": {},
   "cell_type": "markdown",
   "metadata": {},
   "source": [
    "Here I will implement a web scraper in Python that scrapes the UCLA course registrar to get the name of each class, and store it in our database for our CS 35L project.  Once I scrape the courses, I would also like to be able to scrape the info about each course, like what GEs it fulfills, the subject, etc."
   ]
  },
  {
   "cell_type": "code",
   "execution_count": null,
   "metadata": {},
   "outputs": [],
   "source": [
    "pip install PyPDF2"
   ]
  },
  {
   "cell_type": "code",
   "execution_count": null,
   "metadata": {},
   "outputs": [],
   "source": [
    "import PyPDF2\n",
    "\n",
    "\n",
    "with open('example.pdf', 'rb') as file:\n",
    "    # Create a PDF file reader object\n",
    "    pdf_reader = PyPDF2.PdfFileReader(file)\n",
    "    \n",
    "\n",
    "    num_pages = pdf_reader.numPages\n",
    "    \n",
    "    \n",
    "    for page_num in range(num_pages):\n",
    "        page = pdf_reader.getPage(page_num)\n",
    "        text = page.extractText()\n",
    "        print(text)\n"
   ]
  },
  {
   "cell_type": "code",
   "execution_count": null,
   "metadata": {},
   "outputs": [],
   "source": [
    "def extract_strings_recursive(test_str, tag):\n",
    "\t\n",
    "\tstart_idx = test_str.find(\"<\" + tag + \" class>\")\n",
    "\n",
    "\t\n",
    "\tif start_idx == -1:\n",
    "\t\treturn []\n",
    "\n",
    "\t\n",
    "\tend_idx = test_str.find(\"</\" + tag + \">\", start_idx)\n",
    "\tres = [test_str[start_idx+len(tag)+2:end_idx]]\n",
    "\n",
    "\t\n",
    "\tres += extract_strings_recursive(test_str[end_idx+len(tag)+3:], tag)\n",
    "\n",
    "\treturn res\n",
    "\n",
    "\n",
    "tag = \"span\"\n",
    "\n",
    "res = extract_strings_recursive(soup, tag)\n",
    "print(\"The Strings extracted : \" + str(res))\n",
    "\n"
   ]
  },
  {
   "cell_type": "code",
   "execution_count": null,
   "metadata": {},
   "outputs": [],
   "source": [
    "pip install requests beautifulsoup4"
   ]
  },
  {
   "cell_type": "code",
   "execution_count": 6,
   "metadata": {},
   "outputs": [],
   "source": [
    "from bs4 import BeautifulSoup\n",
    "import requests"
   ]
  },
  {
   "cell_type": "code",
   "execution_count": 52,
   "metadata": {},
   "outputs": [],
   "source": [
    "response = requests.get(\"https://sa.ucla.edu/ro/public/soc/Results?SubjectAreaName=Aerospace+Studies+(AERO+ST)&t=24S&sBy=subject&subj=AERO+ST&catlg=&cls_no=&undefined=Go&btnIsInIndex=btn_inIndex\")\n",
    "soup = BeautifulSoup(response.content, \"html.parser\")\n",
    "    "
   ]
  },
  {
   "cell_type": "code",
   "execution_count": null,
   "metadata": {},
   "outputs": [],
   "source": [
    "print(soup.prettify())"
   ]
  },
  {
   "cell_type": "code",
   "execution_count": null,
   "metadata": {},
   "outputs": [],
   "source": [
    "h3_elements = soup.find_all('h3')\n",
    "\n",
    "\n",
    "for h3 in h3_elements:\n",
    "    button_text = h3.find('button').get_text(strip=True)\n",
    "    print(button_text)\n"
   ]
  },
  {
   "cell_type": "code",
   "execution_count": null,
   "metadata": {},
   "outputs": [],
   "source": [
    "beginning_index = soup.find(string=\"<span class>\")\n",
    "ending_index = soup.find(string=\"</span\")"
   ]
  },
  {
   "cell_type": "code",
   "execution_count": null,
   "metadata": {},
   "outputs": [],
   "source": [
    "content = []\n",
    "current_element = beginning_index.find_next_sibling()\n",
    "while current_element and current_element != ending_index:\n",
    "    content.append(beginning_index.text)\n",
    "    current_element = current_element.find_next_sibling()\n",
    "\n",
    "# Print the extracted content\n",
    "print(\"\".join(content))\n"
   ]
  }
 ],
 "metadata": {
  "kernelspec": {
   "display_name": "Python 3",
   "language": "python",
   "name": "python3"
  },
  "language_info": {
   "codemirror_mode": {
    "name": "ipython",
    "version": 3
   },
   "file_extension": ".py",
   "mimetype": "text/x-python",
   "name": "python",
   "nbconvert_exporter": "python",
   "pygments_lexer": "ipython3",
   "version": "3.11.2 (v3.11.2:878ead1ac1, Feb  7 2023, 10:02:41) [Clang 13.0.0 (clang-1300.0.29.30)]"
  },
  "orig_nbformat": 4,
  "vscode": {
   "interpreter": {
    "hash": "aee8b7b246df8f9039afb4144a1f6fd8d2ca17a180786b69acc140d282b71a49"
   }
  }
 },
 "nbformat": 4,
 "nbformat_minor": 2
}
