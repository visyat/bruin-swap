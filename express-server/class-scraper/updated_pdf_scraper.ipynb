{
 "cells": [
  {
   "cell_type": "code",
   "execution_count": 27,
   "metadata": {},
   "outputs": [],
   "source": [
    "from bs4 import BeautifulSoup\n",
    "import requests\n",
    "\n",
    "response = requests.get(\n",
    "    \"https://sa.ucla.edu/ro/public/soc/Results?SubjectAreaName=Computer+Science+(COM+SCI)&t=23W&sBy=subject&subj=COM+SCI&catlg=&cls_no=&undefined=Go&btnIsInIndex=btn_inIndex\")\n",
    "\n",
    "soup = BeautifulSoup(response.content, \"html.parser\")\n"
   ]
  },
  {
   "cell_type": "code",
   "execution_count": null,
   "metadata": {},
   "outputs": [],
   "source": [
    "print(soup.get_text())"
   ]
  },
  {
   "cell_type": "code",
   "execution_count": null,
   "metadata": {},
   "outputs": [],
   "source": [
    "# Find all button elements whose IDs match the regular expression COMSCI\n",
    "# button_elements = soup.find_all('button', id=re.compile('^COMSCI'))\n",
    "\n",
    "button_elements = soup.find_all('button', id=('COMSCI0032-title'))\n",
    "\n",
    "# Extract text from each button element\n",
    "for button_element in button_elements:\n",
    "    course_name = button_element.get_text(strip=True)\n",
    "    print('Course Name:', course_name)\n",
    "\n"
   ]
  },
  {
   "cell_type": "code",
   "execution_count": 24,
   "metadata": {},
   "outputs": [
    {
     "name": "stdout",
     "output_type": "stream",
     "text": [
      "Button Text: 32 - Introduction to Computer Science II\n"
     ]
    }
   ],
   "source": [
    "\n",
    "html2 = '''\n",
    "<button class=\"linkLikeButton\" id=\"COMSCI0032-title\" type=\"button\" aria-expanded=\"false\" aria-controls=\"COMSCI0032-container\" aria-disabled=\"false\">32 - Introduction to Computer Science II</button>\n",
    "'''\n",
    "\n",
    "soup2 = BeautifulSoup(html, 'html.parser')\n",
    "\n",
    "\n",
    "button_element = soup2.find('button', id='COMSCI0032-title')\n",
    "\n",
    "if button_element:\n",
    "    button_text = button_element.get_text(strip=True)\n",
    "    print('Button Text:', button_text)\n",
    "else:\n",
    "    print('Button element not found.')\n"
   ]
  },
  {
   "cell_type": "code",
   "execution_count": null,
   "metadata": {},
   "outputs": [],
   "source": [
    "import PyPDF2\n",
    "\n",
    "def extract_text_from_pdf(pdf_path, start_page=184, end_page=890):\n",
    "    text = \"\"\n",
    "    with open(pdf_path, 'rb') as file:\n",
    "        reader = PyPDF2.PdfReader(file)\n",
    "        start_page = max(0, start_page - 1)  # Adjust to 0-based indexing\n",
    "        end_page = min(end_page, len(reader.pages))\n",
    "        for page_number in range(start_page, end_page):\n",
    "            page = reader.pages[page_number]\n",
    "            text += page.extract_text()\n",
    "    return text\n",
    "\n",
    "# Replace 'your_pdf_file.pdf' with the path to your PDF file\n",
    "pdf_text = extract_text_from_pdf('/Users/dayfamily/Desktop/UCLA_Catalog_2023-24.pdf', start_page=184, end_page=890)\n",
    "print(pdf_text)\n"
   ]
  },
  {
   "cell_type": "code",
   "execution_count": null,
   "metadata": {},
   "outputs": [],
   "source": [
    "# Extract major from the text\n",
    "major_pattern = r'([A-Za-z\\s]+)\\s+Lower-Division\\s+Courses'\n",
    "major_match = re.search(major_pattern, pdf_text)\n",
    "major = major_match.group(1).strip() if major_match else None\n",
    "\n",
    "# Regular expression to find course numbers and titles\n",
    "course_pattern = r'(\\b[A-Za-z]*\\d+[A-Za-z]?)\\.\\s(.+?)\\.'\n",
    "matches = re.findall(course_pattern, pdf_text)\n",
    "\n",
    "# Format matches into a dictionary with major as the key\n",
    "output = {major: [[match[0], match[1]] for match in matches]}\n",
    "\n",
    "# Print the result\n",
    "for major, courses in output.items():\n",
    "    print(\"Major:\", major)\n",
    "    for course in courses:\n",
    "        print(course)"
   ]
  }
 ],
 "metadata": {
  "kernelspec": {
   "display_name": "Python 3",
   "language": "python",
   "name": "python3"
  },
  "language_info": {
   "codemirror_mode": {
    "name": "ipython",
    "version": 3
   },
   "file_extension": ".py",
   "mimetype": "text/x-python",
   "name": "python",
   "nbconvert_exporter": "python",
   "pygments_lexer": "ipython3",
   "version": "3.11.2 (v3.11.2:878ead1ac1, Feb  7 2023, 10:02:41) [Clang 13.0.0 (clang-1300.0.29.30)]"
  },
  "orig_nbformat": 4,
  "vscode": {
   "interpreter": {
    "hash": "aee8b7b246df8f9039afb4144a1f6fd8d2ca17a180786b69acc140d282b71a49"
   }
  }
 },
 "nbformat": 4,
 "nbformat_minor": 2
}
