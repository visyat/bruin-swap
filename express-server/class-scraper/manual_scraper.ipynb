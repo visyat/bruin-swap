{
 "cells": [
  {
   "attachments": {},
   "cell_type": "markdown",
   "metadata": {},
   "source": [
    "Here is the final scraper that we will be using to populate the database.  We will be pdf scraping since there were technical limitations scraping the course website. (likely protections from UCLA) "
   ]
  },
  {
   "attachments": {},
   "cell_type": "markdown",
   "metadata": {},
   "source": [
    "For the demo purposes, we will have around 10 majors with 10 classes each, with 4 discussion sections each, totalling 400 unique class codes.  More information about why we chose this amount of data is outlined below and in previous web scraping attempts."
   ]
  },
  {
   "cell_type": "code",
   "execution_count": 105,
   "metadata": {},
   "outputs": [],
   "source": [
    "#importing necessary packages\n",
    "import PyPDF2\n",
    "import re"
   ]
  },
  {
   "cell_type": "code",
   "execution_count": 106,
   "metadata": {},
   "outputs": [],
   "source": [
    "#putting part of the pdf of the UCLA catalog into a string\n",
    "#takes a while to run, ~1 minute depending on device\n",
    "def extract_text_from_pdf(pdf_path, start_page=180, end_page=890):\n",
    "    text = \"\"\n",
    "    #opens pdf\n",
    "    with open(pdf_path, 'rb') as file:\n",
    "        reader = PyPDF2.PdfReader(file)\n",
    "        start_page = max(0, start_page - 1)  \n",
    "        end_page = min(end_page, len(reader.pages))\n",
    "        #chooses which pages to parse through - the class section of the pdf in this case\n",
    "        for page_number in range(start_page, end_page):\n",
    "            page = reader.pages[page_number]\n",
    "            text += page.extract_text()\n",
    "    return text\n",
    "\n",
    "\n",
    "#use path to course catalog pdf on your device\n",
    "class_text = extract_text_from_pdf('/Users/dayfamily/Desktop/UCLA_Catalog_2023-24.pdf', start_page=180, end_page=890)\n"
   ]
  },
  {
   "attachments": {},
   "cell_type": "markdown",
   "metadata": {},
   "source": [
    "How we are going to input what we scrape into the database:\n",
    "\n",
    "INSERT INTO classes VALUES ('course_code', 'dept_code', 'course_num', 'course_name', 'prof', 'discussion_code');\n",
    "\n",
    "ex:  INSERT INTO classes VALUES ('CS000331A', 'COM SCI', '33', 'Introduction to Computer Organization', 'Reinman, G.D.', '1A');\n",
    "\n",
    "So, we will need to make an array that has the following elements: course_code, dept_code, course_num, course_name, prof, and discussion_code.  Unfortunately, due to the inability to scrape the registrar, we will have to use dummy variables for prof and discussion_code, as those things will be variate by quarter and not something we can confirm off of the pdf version of the course catalog.  Additionally, assigning dept_code will be a little bit tricky.    "
   ]
  },
  {
   "attachments": {},
   "cell_type": "markdown",
   "metadata": {},
   "source": [
    "First we will extract course names and course numbers from the pdf."
   ]
  },
  {
   "cell_type": "code",
   "execution_count": 107,
   "metadata": {},
   "outputs": [],
   "source": [
    "#a regular expression that looks for a specific pattern that matches how the pdf stores info about course_names and course_codes; not completely perfect, especially when it comes to things like fiat lux or research\n",
    "course_pattern = r'(\\b[A-Za-z]*\\d+[A-Za-z]?)\\.\\s(.+?)\\.'\n",
    "course_matches = re.findall(course_pattern, class_text)\n",
    "\n"
   ]
  },
  {
   "cell_type": "code",
   "execution_count": null,
   "metadata": {},
   "outputs": [],
   "source": [
    "#check that it works\n",
    "print(course_matches[:5]) "
   ]
  },
  {
   "cell_type": "code",
   "execution_count": 108,
   "metadata": {},
   "outputs": [],
   "source": [
    "#preliminary array using what info we got so far\n",
    "courses_array = []\n",
    "for match in course_matches:\n",
    "    course_code = match[0]\n",
    "    course_name = match[1]\n",
    "    courses_array.append([\"\", \"\", course_code, course_name, \"\", \"\"])\n"
   ]
  },
  {
   "cell_type": "code",
   "execution_count": null,
   "metadata": {},
   "outputs": [],
   "source": [
    "#check that it works\n",
    "for row_index, row_data in enumerate(courses_array[:12000], start=1):\n",
    "    print(f\"Row {row_index}: {row_data}\")"
   ]
  },
  {
   "attachments": {},
   "cell_type": "markdown",
   "metadata": {},
   "source": [
    "There are over 10,000 classes (with ~4 sections each), and there is no easy way to assign a major to each of them using the information we have.  I attempted to use different regular expressions to scrape major names on a given page and then I could subsequently assign the classes on that page to that major, but to no avail with the given formatting.  Thus, the only way to assign majors to each course, would be to do so manually, and I will not be doing all 10,000+ courses.  Instead, I can do it \"semi-manually\", where I look at which range each class is, and assign the dept_code to those courses.  I could also write a program to do that based on perhaps if the next course number is lower than the previous one, and to change the dept_code accordingly, but that is prone to errors and having incorrect information seems worse than having incomplete information.  Additionally, even if I did that, we wouldn't be able to populate our database with all of that information so it seems like not the best use of our time.  So, I will input dept_code information \"Semi-manually\" for the time being.  I will do the first couple of majors, and then prioritize popular majors like computer science, mathematics, and political science.  "
   ]
  },
  {
   "cell_type": "code",
   "execution_count": 109,
   "metadata": {},
   "outputs": [],
   "source": [
    "#complete list of dept_codes, found on https://github.com/nnhien/uclacatalog/wiki\n",
    "dept_abbr = { \"POPULATED FROM LINK ABOVE; REMOVED FROM THIS NB FOR BREVITY\" }"
   ]
  },
  {
   "attachments": {},
   "cell_type": "markdown",
   "metadata": {},
   "source": [
    "This is the beginning of \"Semi-manually\" assigning majors to classes - I will do the following majors: AERO ST, AF AMER, POLI SCI, MATH, COM SCI, ECON, PHILOS, SOC SC, THEATER, EC ENGR.  "
   ]
  },
  {
   "cell_type": "code",
   "execution_count": 110,
   "metadata": {},
   "outputs": [],
   "source": [
    "#I will essentially be copying this cell for as many majors as I fill out - replacing the dept_code and range accordingly.  I will be determining the range by looking at the last class listed for each major on the pdf of the general catalog.\n",
    "\n",
    "#here is the first one: AERO ST\n",
    "\n",
    "# Given dept_code to assign\n",
    "dept_code = \"AERO ST\"\n",
    "\n",
    "# Assigning the dept_code to the second column of however many classes it corresponds to (LIMITING TO AROUND 10 FOR DB PURPOSES)\n",
    "for row_index in range(0,5):\n",
    "    courses_array[row_index][1] = dept_code"
   ]
  },
  {
   "cell_type": "code",
   "execution_count": 111,
   "metadata": {},
   "outputs": [],
   "source": [
    "\n",
    "# Given dept_code to assign\n",
    "dept_code = \"EC ENGR\"\n",
    "\n",
    "# Assigning the dept_code to the second column of however many classes it corresponds to (LIMITING TO AROUND 10 FOR DB PURPOSES)\n",
    "for row_index in range(3815,3830):\n",
    "    courses_array[row_index][1] = dept_code\n"
   ]
  },
  {
   "cell_type": "code",
   "execution_count": null,
   "metadata": {},
   "outputs": [],
   "source": [
    "# Printing the updated array\n",
    "for row_index, row_data in enumerate(courses_array[3815:3830], start=1):\n",
    "    print(f\"Row {row_index}: {row_data}\")"
   ]
  },
  {
   "cell_type": "code",
   "execution_count": 112,
   "metadata": {},
   "outputs": [],
   "source": [
    "\n",
    "# Given dept_code to assign\n",
    "dept_code = \"THEATER\"\n",
    "\n",
    "# Assigning the dept_code to the second column of however many classes it corresponds to (LIMITING TO AROUND 10 FOR DB PURPOSES)\n",
    "for row_index in range(10521,10537):\n",
    "    courses_array[row_index][1] = dept_code\n"
   ]
  },
  {
   "cell_type": "code",
   "execution_count": null,
   "metadata": {},
   "outputs": [],
   "source": [
    "# Printing the updated array\n",
    "for row_index, row_data in enumerate(courses_array[10520:10538], start=1):\n",
    "    print(f\"Row {row_index}: {row_data}\")"
   ]
  },
  {
   "cell_type": "code",
   "execution_count": 113,
   "metadata": {},
   "outputs": [],
   "source": [
    "\n",
    "# Given dept_code to assign\n",
    "dept_code = \"PUB AFF\"\n",
    "\n",
    "# Assigning the dept_code to the second column of however many classes it corresponds to (LIMITING TO AROUND 10 FOR DB PURPOSES)\n",
    "for row_index in range(9473,9488):\n",
    "    courses_array[row_index][1] = dept_code\n"
   ]
  },
  {
   "cell_type": "code",
   "execution_count": null,
   "metadata": {},
   "outputs": [],
   "source": [
    "# Printing the updated array\n",
    "for row_index, row_data in enumerate(courses_array[9473:9488], start=1):\n",
    "    print(f\"Row {row_index}: {row_data}\")"
   ]
  },
  {
   "cell_type": "code",
   "execution_count": 114,
   "metadata": {},
   "outputs": [],
   "source": [
    "\n",
    "# Given dept_code to assign\n",
    "dept_code = \"PHILOS\"\n",
    "\n",
    "# Assigning the dept_code to the second column of however many classes it corresponds to (LIMITING TO AROUND 10 FOR DB PURPOSES)\n",
    "for row_index in range(8568,8585):\n",
    "    courses_array[row_index][1] = dept_code\n"
   ]
  },
  {
   "cell_type": "code",
   "execution_count": null,
   "metadata": {},
   "outputs": [],
   "source": [
    "# Printing the updated array\n",
    "for row_index, row_data in enumerate(courses_array[8568:8586], start=1):\n",
    "    print(f\"Row {row_index}: {row_data}\")"
   ]
  },
  {
   "cell_type": "code",
   "execution_count": 115,
   "metadata": {},
   "outputs": [],
   "source": [
    "\n",
    "# Given dept_code to assign\n",
    "dept_code = \"ECON\"\n",
    "\n",
    "# Assigning the dept_code to the second column of however many classes it corresponds to (LIMITING TO AROUND 10 FOR DB PURPOSES)\n",
    "for row_index in range(3397,3414):\n",
    "    courses_array[row_index][1] = dept_code\n"
   ]
  },
  {
   "cell_type": "code",
   "execution_count": null,
   "metadata": {},
   "outputs": [],
   "source": [
    "# Printing the updated array\n",
    "for row_index, row_data in enumerate(courses_array[3397:3415], start=1):\n",
    "    print(f\"Row {row_index}: {row_data}\")"
   ]
  },
  {
   "cell_type": "code",
   "execution_count": 116,
   "metadata": {},
   "outputs": [],
   "source": [
    "# Given dept_code to assign\n",
    "dept_code = \"AF AMER\"\n",
    "\n",
    "# Assigning the dept_code to the second column of however many classes it corresponds to (LIMITING TO AROUND 10 FOR DB PURPOSES)\n",
    "for row_index in range(5,102):\n",
    "    courses_array[row_index][1] = dept_code\n"
   ]
  },
  {
   "cell_type": "code",
   "execution_count": null,
   "metadata": {},
   "outputs": [],
   "source": [
    "# Printing the relevant section of the updated array\n",
    "for row_index, row_data in enumerate(courses_array[4:14], start=1):\n",
    "    print(f\"Row {row_index}: {row_data}\")"
   ]
  },
  {
   "cell_type": "code",
   "execution_count": 117,
   "metadata": {},
   "outputs": [],
   "source": [
    "# Given dept_code to assign\n",
    "dept_code = \"POLI SCI\"\n",
    "\n",
    "# Assigning the dept_code to the second column of however many classes it corresponds to (LIMITING TO AROUND 10 FOR DB PURPOSES)\n",
    "for row_index in range(8997,9010):\n",
    "    courses_array[row_index][1] = dept_code\n",
    "\n"
   ]
  },
  {
   "cell_type": "code",
   "execution_count": null,
   "metadata": {},
   "outputs": [],
   "source": [
    "# Printing the relevant section of the updated array\n",
    "for row_index, row_data in enumerate(courses_array[8996:9011], start=1):\n",
    "    print(f\"Row {row_index}: {row_data}\")"
   ]
  },
  {
   "cell_type": "code",
   "execution_count": 118,
   "metadata": {},
   "outputs": [],
   "source": [
    "# Given dept_code to assign\n",
    "dept_code = \"COM SCI\"\n",
    "\n",
    "# Assigning the dept_code to the second column of however many classes it corresponds to (LIMITING TO AROUND 10 FOR DB PURPOSES)\n",
    "for row_index in range(2793,2810):\n",
    "    courses_array[row_index][1] = dept_code\n",
    "\n"
   ]
  },
  {
   "cell_type": "code",
   "execution_count": null,
   "metadata": {},
   "outputs": [],
   "source": [
    "# Printing the relevant section of the updated array\n",
    "for row_index, row_data in enumerate(courses_array[2792:2811], start=1):\n",
    "    print(f\"Row {row_index}: {row_data}\")"
   ]
  },
  {
   "cell_type": "code",
   "execution_count": 119,
   "metadata": {},
   "outputs": [],
   "source": [
    "# Given dept_code to assign\n",
    "dept_code = \"MATH\"\n",
    "\n",
    "# Assigning the dept_code to the second column of however many classes it corresponds to\n",
    "for row_index in range(6975,7000):\n",
    "    courses_array[row_index][1] = dept_code\n",
    "\n"
   ]
  },
  {
   "cell_type": "code",
   "execution_count": null,
   "metadata": {},
   "outputs": [],
   "source": [
    "# Printing the relevant section of the updated array\n",
    "for row_index, row_data in enumerate(courses_array[6974:7001], start=1):\n",
    "    print(f\"Row {row_index}: {row_data}\")"
   ]
  },
  {
   "attachments": {},
   "cell_type": "markdown",
   "metadata": {},
   "source": [
    "Okay, using the classes that I have filled out a dept_code for, I will now make a new array and fill out dummy discussion sections for them."
   ]
  },
  {
   "cell_type": "code",
   "execution_count": 120,
   "metadata": {},
   "outputs": [],
   "source": [
    "# Create a new array containing only rows with non-empty second elements\n",
    "discussions_template_array = [row for row in courses_array if row[1] != \"\"]\n",
    "\n"
   ]
  },
  {
   "cell_type": "code",
   "execution_count": 144,
   "metadata": {},
   "outputs": [],
   "source": [
    "for row in discussions_template_array:\n",
    "    row[5] = \"1A\"\n",
    "\n"
   ]
  },
  {
   "cell_type": "code",
   "execution_count": null,
   "metadata": {},
   "outputs": [],
   "source": [
    "for row in discussions_template_array:\n",
    "    print(row)"
   ]
  },
  {
   "cell_type": "code",
   "execution_count": 149,
   "metadata": {},
   "outputs": [],
   "source": [
    "discussions_updated_array = []\n",
    "\n",
    "for row in discussions_template_array:\n",
    "    # Create a duplicate row with the value of the sixth column changed to \"1B\"\n",
    "    duplicate_row_1b = row[:]  # Create a shallow copy of the original row\n",
    "    duplicate_row_1b[5] = \"1B\"  # Update the value of the sixth column to \"1B\"\n",
    "    duplicate_row_1c = row[:]  # Create a shallow copy of the original row\n",
    "    duplicate_row_1c[5] = \"1C\"  # Update the value of the sixth column to \"1B\"\n",
    "    duplicate_row_1d = row[:]  # Create a shallow copy of the original row\n",
    "    duplicate_row_1d[5] = \"1D\"  # Update the value of the sixth column to \"1B\"\n",
    "    \n",
    "    # Append the original row and the duplicate row to the updated array\n",
    "    discussions_updated_array.append(row)\n",
    "    discussions_updated_array.append(duplicate_row_1b)\n",
    "    discussions_updated_array.append(duplicate_row_1c)\n",
    "    discussions_updated_array.append(duplicate_row_1d)\n",
    "\n"
   ]
  },
  {
   "cell_type": "code",
   "execution_count": null,
   "metadata": {},
   "outputs": [],
   "source": [
    "for row in discussions_updated_array:\n",
    "    print(row)"
   ]
  },
  {
   "attachments": {},
   "cell_type": "markdown",
   "metadata": {},
   "source": [
    "Now that each class has 4 discussion sections, a dept code, a course code, and a course name, I will assign a dummy variable to be their professor - I will update it with more apt names when adding it to the website.  "
   ]
  },
  {
   "attachments": {},
   "cell_type": "markdown",
   "metadata": {},
   "source": [
    "You can create a list of professors from the UCLA registrar - no scraping required."
   ]
  },
  {
   "cell_type": "code",
   "execution_count": 123,
   "metadata": {},
   "outputs": [],
   "source": [
    "dummy_profs = dummy_profs.split('\\n')"
   ]
  },
  {
   "cell_type": "code",
   "execution_count": 124,
   "metadata": {},
   "outputs": [],
   "source": [
    "\n",
    "dummy_profs = dummy_profs[1:-1]"
   ]
  },
  {
   "cell_type": "code",
   "execution_count": null,
   "metadata": {},
   "outputs": [],
   "source": [
    "print(dummy_profs[1:-1])"
   ]
  },
  {
   "cell_type": "code",
   "execution_count": 125,
   "metadata": {},
   "outputs": [],
   "source": [
    "import random\n",
    "\n",
    "for row in discussions_template_array:\n",
    "    random_index = random.randint(0, len(dummy_profs) - 1)\n",
    "    row[4] = dummy_profs[random_index]\n"
   ]
  },
  {
   "cell_type": "code",
   "execution_count": null,
   "metadata": {},
   "outputs": [],
   "source": [
    "# Print the modified discussions_updated_array\n",
    "for row in discussions_updated_array:\n",
    "    print(row)"
   ]
  },
  {
   "attachments": {},
   "cell_type": "markdown",
   "metadata": {},
   "source": [
    "Now, all I need to have some classes completely filled out and ready to populate the database is to give each class a unique course_code.  This will look like the following:\n",
    "\n",
    "2 letters representing the dept_code i.e. CS for COMP SCI\n",
    "5 characters representing the course_num, i.e. 00001 for Introduction to Black Studies\n",
    "2 characters representing the discussion_code i.e. 1C\n"
   ]
  },
  {
   "cell_type": "code",
   "execution_count": 151,
   "metadata": {},
   "outputs": [],
   "source": [
    "for row in discussions_updated_array:\n",
    "    # Extract relevant information from the row\n",
    "    dept_code = row[1]\n",
    "    course_num = row[2]\n",
    "    discussion_code = row[5]\n",
    "    \n",
    "    # Construct the course code\n",
    "    if dept_code == 'COM SCI':\n",
    "        course_code = 'CS' + '0' * (5 - len(course_num)) + course_num + discussion_code\n",
    "    elif dept_code == 'AERO ST':\n",
    "        course_code = 'AS' + '0' * (5 - len(course_num)) + course_num + discussion_code\n",
    "    elif dept_code == 'POLI SCI':\n",
    "        course_code = 'PS' + '0' * (5 - len(course_num)) + course_num + discussion_code\n",
    "    elif dept_code == 'MATH':\n",
    "        course_code = 'MT' + '0' * (5 - len(course_num)) + course_num + discussion_code\n",
    "    elif dept_code == 'PHILOS':\n",
    "        course_code = 'PH' + '0' * (5 - len(course_num)) + course_num + discussion_code\n",
    "    elif dept_code == 'PUB AFF':\n",
    "        course_code = 'PA' + '0' * (5 - len(course_num)) + course_num + discussion_code\n",
    "    elif dept_code == 'THEATER':\n",
    "        course_code = 'TH' + '0' * (5 - len(course_num)) + course_num + discussion_code\n",
    "    elif dept_code == 'EC ENGR':\n",
    "        course_code = 'EE' + '0' * (5 - len(course_num)) + course_num + discussion_code\n",
    "    elif dept_code == 'ECON':\n",
    "        course_code = 'EC' + '0' * (5 - len(course_num)) + course_num + discussion_code\n",
    "    elif dept_code == 'AF AMER':\n",
    "        course_code = 'AA' + '0' * (5 - len(course_num)) + course_num + discussion_code\n",
    "        pass\n",
    "\n",
    "    \n",
    "    # Update the first column of the row with the constructed course code\n",
    "    row[0] = course_code\n"
   ]
  },
  {
   "cell_type": "code",
   "execution_count": 152,
   "metadata": {},
   "outputs": [],
   "source": [
    "#rename for clarity\n",
    "final_courses_array = discussions_updated_array"
   ]
  },
  {
   "cell_type": "code",
   "execution_count": null,
   "metadata": {},
   "outputs": [],
   "source": [
    "for row_index, row_data in enumerate(final_courses_array, start=1):\n",
    "    print(f\"Row {row_index}: {row_data}\")"
   ]
  },
  {
   "attachments": {},
   "cell_type": "markdown",
   "metadata": {},
   "source": [
    "Here I will attempt to insert a few classes into our database before I populate it completely to avoid crashing the server"
   ]
  },
  {
   "cell_type": "code",
   "execution_count": 222,
   "metadata": {},
   "outputs": [],
   "source": [
    "test_courses_array = final_courses_array[908:958]"
   ]
  },
  {
   "cell_type": "code",
   "execution_count": null,
   "metadata": {},
   "outputs": [],
   "source": [
    "test_courses_array"
   ]
  },
  {
   "attachments": {},
   "cell_type": "markdown",
   "metadata": {},
   "source": [
    "The next cell is the cell that actually populates the database!!"
   ]
  },
  {
   "cell_type": "code",
   "execution_count": 223,
   "metadata": {},
   "outputs": [],
   "source": [
    "\n",
    "import psycopg2\n",
    "#replace the user, password, etc with actual data\n",
    "connection = psycopg2.connect(user=\"USER\", password=\"PASSWRD\", host=\"HOST\", port=\"PORT\", database=\"DB\")\n",
    "connection.autocommit = True\n",
    "with connection.cursor() as cur: \n",
    "    for row in test_courses_array:\n",
    "        course_code, dept_code, course_num, course_name, prof, discussion_code = row\n",
    "        cur.execute (f\"\"\"\n",
    "        INSERT INTO classes \n",
    "            VALUES ('{course_code}', '{dept_code}', '{course_num}', '{course_name}', '{prof}', '{discussion_code}') \n",
    "            ON CONFLICT (section_code) DO NOTHING;\n",
    "        \"\"\")\n",
    "connection.close()\n",
    "\n"
   ]
  },
  {
   "attachments": {},
   "cell_type": "markdown",
   "metadata": {},
   "source": [
    "below are failed attempts to form regular expressions that capture majors so that I can associate them with courses. "
   ]
  },
  {
   "cell_type": "code",
   "execution_count": null,
   "metadata": {},
   "outputs": [],
   "source": [
    "unique_first_column_values = {}  \n",
    "unique_rows = []  \n",
    "\n",
    "\n",
    "for row in discussions_updated_array:\n",
    "  \n",
    "    if row[0] not in unique_first_column_values:\n",
    "       \n",
    "        unique_first_column_values[row[0]] = True\n",
    "        unique_rows.append(row)\n",
    "\n",
    "\n",
    "final_courses_array = unique_rows"
   ]
  }
 ],
 "metadata": {
  "kernelspec": {
   "display_name": "Python 3",
   "language": "python",
   "name": "python3"
  },
  "language_info": {
   "codemirror_mode": {
    "name": "ipython",
    "version": 3
   },
   "file_extension": ".py",
   "mimetype": "text/x-python",
   "name": "python",
   "nbconvert_exporter": "python",
   "pygments_lexer": "ipython3",
   "version": "3.11.2"
  },
  "orig_nbformat": 4,
  "vscode": {
   "interpreter": {
    "hash": "aee8b7b246df8f9039afb4144a1f6fd8d2ca17a180786b69acc140d282b71a49"
   }
  }
 },
 "nbformat": 4,
 "nbformat_minor": 2
}
