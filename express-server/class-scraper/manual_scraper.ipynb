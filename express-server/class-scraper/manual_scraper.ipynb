{
 "cells": [
  {
   "attachments": {},
   "cell_type": "markdown",
   "metadata": {},
   "source": [
    "Here is the final scraper that we will be using to populate the database.  We will be pdf scraping since there were technical limitations scraping the course website. (likely protections from UCLA) "
   ]
  },
  {
   "cell_type": "code",
   "execution_count": 2,
   "metadata": {},
   "outputs": [],
   "source": [
    "#importing necessary packages\n",
    "import PyPDF2\n",
    "import re"
   ]
  },
  {
   "cell_type": "code",
   "execution_count": 3,
   "metadata": {},
   "outputs": [],
   "source": [
    "#putting the pdf of the UCLA catalog into a string\n",
    "#takes a while to run, ~1 minute depending on device\n",
    "def extract_text_from_pdf(pdf_path, start_page=1, end_page=890):\n",
    "    text = \"\"\n",
    "    #opens pdf\n",
    "    with open(pdf_path, 'rb') as file:\n",
    "        reader = PyPDF2.PdfReader(file)\n",
    "        start_page = max(0, start_page - 1)  \n",
    "        end_page = min(end_page, len(reader.pages))\n",
    "        #chooses which pages to parse through - the whole pdf in this case\n",
    "        for page_number in range(start_page, end_page):\n",
    "            page = reader.pages[page_number]\n",
    "            text += page.extract_text()\n",
    "    return text\n",
    "\n",
    "pdf_text = extract_text_from_pdf('/Users/dayfamily/Desktop/UCLA_Catalog_2023-24.pdf', start_page=1, end_page=890)\n"
   ]
  },
  {
   "cell_type": "code",
   "execution_count": 8,
   "metadata": {},
   "outputs": [],
   "source": [
    "#defining only the sections we need to get course codes and course names, and potentially majors associated, although we run into difficulties as demonstrated later\n",
    "#also takes a while to run, ~1 minute depending on device.\n",
    "class_text = extract_text_from_pdf('/Users/dayfamily/Desktop/UCLA_Catalog_2023-24.pdf', start_page=180, end_page=890)"
   ]
  },
  {
   "attachments": {},
   "cell_type": "markdown",
   "metadata": {},
   "source": [
    "How we are going to input what we scrape into the database:\n",
    "\n",
    "INSERT INTO classes VALUES ('course_code', 'dept_code', 'course_num', 'course_name', 'prof', 'discussion_code');\n",
    "\n",
    "ex:  INSERT INTO classes VALUES ('CS000331A', 'COM SCI', '33', 'Introduction to Computer Organization', 'Reinman, G.D.', '1A');\n",
    "\n",
    "So, we will need to make an array that has the following elements: course_code, dept_code, course_num, course_name, prof, and discussion_code.  Unfortunately, due to the inability to scrape the registrar, we will have to use dummy variables for prof and discussion_code, as those things will be variate by quarter and not something we can confirm off of the pdf version of the course catalog.  "
   ]
  },
  {
   "cell_type": "code",
   "execution_count": 9,
   "metadata": {},
   "outputs": [],
   "source": [
    "#a regular expression that looks for a specific pattern that matches how the pdf stores info about course_names and course_codes; not completely perfect, especially when it comes to things like fiat lux or research\n",
    "course_pattern = r'(\\b[A-Za-z]*\\d+[A-Za-z]?)\\.\\s(.+?)\\.'\n",
    "course_matches = re.findall(course_pattern, class_text)\n",
    "\n"
   ]
  },
  {
   "cell_type": "code",
   "execution_count": null,
   "metadata": {},
   "outputs": [],
   "source": [
    "#commented out below line since it has a huge output, it also takes ~2 minutes to run depending on your device\n",
    "#BEWARE SOMETIMES CRASHES\n",
    "#print(course_matches) "
   ]
  },
  {
   "cell_type": "code",
   "execution_count": 10,
   "metadata": {},
   "outputs": [],
   "source": [
    "#preliminary array using what info we got so far\n",
    "courses_array = []\n",
    "for match in course_matches:\n",
    "    course_code = match[0]\n",
    "    course_name = match[1]\n",
    "    courses_array.append([\"\", \"\", course_code, course_name, \"\", \"\"])\n",
    "\n",
    "\n"
   ]
  },
  {
   "cell_type": "code",
   "execution_count": null,
   "metadata": {},
   "outputs": [],
   "source": [
    "#prints every row - but start lower if it is crashing\n",
    "for row_index, row_data in enumerate(courses_array[:12000], start=1):\n",
    "    print(f\"Row {row_index}: {row_data}\")"
   ]
  },
  {
   "attachments": {},
   "cell_type": "markdown",
   "metadata": {},
   "source": [
    "There are over 10,000 classes, and there is no easy way to assign a major to each of them... I attempted to use different regular expressions to scrape major names on a given page and then I could subsequently assign the classes on that page to that major, but to no avail with the given formatting.  Thus, the only way to assign majors to each course, would be to do so manually, and I will not be doing all 11,000 courses.  Instead, I can do it \"semi-manually\", where I look at which range each class is, and assign the dept_code to those courses.  I could also write a program to do that based on perhaps if the next course number is lower than the previous one, and to change the dept_code accordingly, but that is prone to errors and having incorrect information seems worse than having incomplete information.  So, I will input dept_code information \"manually\" for the time being.  I will do the first couple of majors, and then prioritize popular majors like computer science, mathematics, and political science.  "
   ]
  },
  {
   "cell_type": "code",
   "execution_count": 5,
   "metadata": {},
   "outputs": [],
   "source": [
    "#complete list of dept_codes, found on https://github.com/nnhien/uclacatalog/wiki\n",
    "dept_abbr = {\n",
    "    \"AERO ST\",\n",
    "    \"AF AMER\",\n",
    "    \"AFRC ST\",\n",
    "    \"AM IND\",\n",
    "    \"ASL\",\n",
    "    \"AN N EA\",\n",
    "    \"ANES\",\n",
    "    \"ANTHRO\",\n",
    "    \"APPLING\",\n",
    "    \"ARABIC\",\n",
    "    \"ARCHEOL\",\n",
    "    \"ARCH&UD\",\n",
    "    \"ARMENIA\",\n",
    "    \"ART\",\n",
    "    \"ART HIS\",\n",
    "    \"ART&ARC\",\n",
    "    \"ARTS ED\",\n",
    "    \"ASIAN\",\n",
    "    \"ASIA AM\",\n",
    "    \"ASTR\",\n",
    "    \"A&O SCI\",\n",
    "    \"BIOENGR\",\n",
    "    \"BIOINFO\",\n",
    "    \"BIOINFR\",\n",
    "    \"BIOL CH\",\n",
    "    \"BIOMATH\",\n",
    "    \"BMD RES\",\n",
    "    \"BIOSTAT\",\n",
    "    \"C&EE ST\",\n",
    "    \"CH ENGR\",\n",
    "    \"CHEM\",\n",
    "    \"CHICANO\",\n",
    "    \"CHIN\",\n",
    "    \"C&EE\",\n",
    "    \"CLASSIC\",\n",
    "    \"CLUSTER\",\n",
    "    \"COMM\",\n",
    "    \"CESC\",\n",
    "    \"COM HLT\",\n",
    "    \"COM LIT\",\n",
    "    \"C&S BIO\",\n",
    "    \"COM SCI\",\n",
    "    \"CAEM\",\n",
    "    \"DANCE\",\n",
    "    \"DENT\",\n",
    "    \"DESMA\",\n",
    "    \"DGT HUM\",\n",
    "    \"DIS STD\",\n",
    "    \"DUTCH\",\n",
    "    \"EPS SCI\",\n",
    "    \"EA STDS\",\n",
    "    \"EE BIOL\",\n",
    "    \"ECON\",\n",
    "    \"EDUC\",\n",
    "    \"EC ENGR\",\n",
    "    \"ENGR\",\n",
    "    \"ENGL\",\n",
    "    \"ESL\",\n",
    "    \"ENGCOMP\",\n",
    "    \"ENVIRON\",\n",
    "    \"ENV HLT\",\n",
    "    \"EPIDEM\",\n",
    "    \"ETHNMUS\",\n",
    "    \"FILIPNO\",\n",
    "    \"FILM TV\",\n",
    "    \"FOOD ST\",\n",
    "    \"FRNCH\",\n",
    "    \"GENDER\",\n",
    "    \"GEOG\",\n",
    "    \"GERMAN\",\n",
    "    \"GRNTLGY\",\n",
    "    \"GLB HLT\",\n",
    "    \"GJ STDS\",\n",
    "    \"GLBL ST\",\n",
    "    \"GRAD PD\",\n",
    "    \"GREEK\",\n",
    "    \"HLT POL\",\n",
    "    \"HEBREW\",\n",
    "    \"HIN-URD\",\n",
    "    \"HIST\",\n",
    "    \"HNRS\",\n",
    "    \"HUM GEN\",\n",
    "    \"HNGAR\",\n",
    "    \"IL AMER\",\n",
    "    \"I E STD\",\n",
    "    \"INDO\",\n",
    "    \"INF STD\",\n",
    "    \"I A STD\",\n",
    "    \"INTL DV\",\n",
    "    \"I M STD\",\n",
    "    \"IRANIAN\",\n",
    "    \"ISLM ST\",\n",
    "    \"ITALIAN\",\n",
    "    \"JAPAN\",\n",
    "    \"JEWISH\",\n",
    "    \"KOREA\",\n",
    "    \"LBR STD\",\n",
    "    \"LATIN\",\n",
    "    \"LATN AM\",\n",
    "    \"LAW\",\n",
    "    \"UG-LAW\",\n",
    "    \"LGBTQS\",\n",
    "    \"LIFESCI\",\n",
    "    \"LING\",\n",
    "    \"MGMT\",\n",
    "    \"MGMTEX\",\n",
    "    \"MGMTFT\",\n",
    "    \"MGMTFE\",\n",
    "    \"MGMTGEX\",\n",
    "    \"MGMTMFE\",\n",
    "    \"MGMTMSA\",\n",
    "    \"MGMTPHD\",\n",
    "    \"MAT SCI\",\n",
    "    \"MATH\",\n",
    "    \"MECH&AE\",\n",
    "    \"MED\",\n",
    "    \"MIMG\",\n",
    "    \"M E STD\",\n",
    "    \"MIL SCI\",\n",
    "    \"M PHARM\",\n",
    "    \"MOL BIO\",\n",
    "    \"MOL TOX\",\n",
    "    \"MCD BIO\",\n",
    "    \"MC&IP\",\n",
    "    \"MUSC\",\n",
    "    \"MSC IND\",\n",
    "    \"MUSCLG\",\n",
    "    \"NAV SCI\",\n",
    "    \"NR EAST\",\n",
    "    \"NEURBIO\",\n",
    "    \"NEURLGY\",\n",
    "    \"NEURO\",\n",
    "    \"NEUROSC\",\n",
    "    \"NEURSGY\",\n",
    "    \"NURSING\",\n",
    "    \"OBGYN\",\n",
    "    \"OPTH\",\n",
    "    \"ORL BIO\",\n",
    "    \"ORTHPDC\",\n",
    "    \"PATH\",\n",
    "    \"PEDS\",\n",
    "    \"PHILOS\",\n",
    "    \"PHYSICS\",\n",
    "    \"PBMED\",\n",
    "    \"PHYSCI\",\n",
    "    \"PHYSIOL\",\n",
    "    \"POLSH\",\n",
    "    \"POL SCI\",\n",
    "    \"PORTGSE\",\n",
    "    \"COMPTNG\",\n",
    "    \"PSYCTRY\",\n",
    "    \"PSYCH\",\n",
    "    \"PUB AFF\",\n",
    "    \"PUB HLT\",\n",
    "    \"PUB PLC\",\n",
    "    \"RAD ONC\",\n",
    "    \"RELIGN\",\n",
    "    \"ROMANIA\",\n",
    "    \"RUSSN\",\n",
    "    \"SCAND\",\n",
    "    \"SCI EDU\",\n",
    "    \"SEMITIC\",\n",
    "    \"SRB CRO\",\n",
    "    \"SLAVC\",\n",
    "    \"SOC SC\",\n",
    "    \"SOC THT\",\n",
    "    \"SOC WLF\",\n",
    "    \"SOC GEN\",\n",
    "    \"SOCIOL\",\n",
    "    \"S ASIAN\",\n",
    "    \"SEASIAN\",\n",
    "    \"SPAN\",\n",
    "    \"STATS\",\n",
    "    \"SURGERY\",\n",
    "    \"SWAHILI\",\n",
    "    \"THAI\",\n",
    "    \"THEATER\",\n",
    "    \"TURKIC\",\n",
    "    \"UNIV ST\",\n",
    "    \"URBN PL\",\n",
    "    \"UROLOGY\",\n",
    "    \"VIETMSE\",\n",
    "    \"WL ARTS\",\n",
    "    \"YIDDSH\"\n",
    "}"
   ]
  },
  {
   "attachments": {},
   "cell_type": "markdown",
   "metadata": {},
   "source": [
    "This is the beginning of \"Semi-manually\" assigning majors to classes - I will do the first 3 majors, and then the ones I specified above.  I may also fill in the remaining with \"dummy major abreviations\", aka fill them out with dept_codes even if they are inaccurate so that they populate the database.  "
   ]
  },
  {
   "cell_type": "code",
   "execution_count": 22,
   "metadata": {},
   "outputs": [],
   "source": [
    "#I will essentially be copying this cell for as many majors as I fill out - replacing the dept_code and range accordingly.  I will be determining the range by looking at the last class listed for each major on the pdf of the general catalog.\n",
    "\n",
    "#here is the first one: AERO ST\n",
    "\n",
    "# Given dept_code to assign\n",
    "dept_code = \"AERO ST\"\n",
    "\n",
    "# Assigning the dept_code to the second column of however many classes it corresponds to\n",
    "for row_index in range(0,5):\n",
    "    courses_array[row_index][1] = dept_code\n",
    "\n"
   ]
  },
  {
   "cell_type": "code",
   "execution_count": null,
   "metadata": {},
   "outputs": [],
   "source": [
    "# Printing the updated array\n",
    "for row in courses_array:\n",
    "    print(row)"
   ]
  },
  {
   "cell_type": "code",
   "execution_count": null,
   "metadata": {},
   "outputs": [],
   "source": [
    "# Given dept_code to assign\n",
    "dept_code = \"AF AMER\"\n",
    "\n",
    "# Assigning the dept_code to the second column of however many classes it corresponds to\n",
    "for row_index in range(5,102):\n",
    "    courses_array[row_index][1] = dept_code\n",
    "\n",
    "# Printing the updated array\n",
    "for row in courses_array:\n",
    "    print(row)"
   ]
  },
  {
   "cell_type": "code",
   "execution_count": null,
   "metadata": {},
   "outputs": [],
   "source": [
    "# Given dept_code to assign\n",
    "dept_code = \"POLI SCI\"\n",
    "\n",
    "# Assigning the dept_code to the second column of however many classes it corresponds to\n",
    "for row_index in range(8997,9197):\n",
    "    courses_array[row_index][1] = dept_code\n",
    "\n",
    "# Printing the updated array\n",
    "for row in courses_array:\n",
    "    print(row)"
   ]
  },
  {
   "cell_type": "code",
   "execution_count": null,
   "metadata": {},
   "outputs": [],
   "source": [
    "# Given dept_code to assign\n",
    "dept_code = \"COM SCI\"\n",
    "\n",
    "# Assigning the dept_code to the second column of however many classes it corresponds to\n",
    "for row_index in range(2793,2853):\n",
    "    courses_array[row_index][1] = dept_code\n",
    "\n",
    "# Printing the updated array\n",
    "for row in courses_array:\n",
    "    print(row)"
   ]
  },
  {
   "cell_type": "code",
   "execution_count": null,
   "metadata": {},
   "outputs": [],
   "source": [
    "# Given dept_code to assign\n",
    "dept_code = \"MATH\"\n",
    "\n",
    "# Assigning the dept_code to the second column of however many classes it corresponds to\n",
    "for row_index in range(6975,7207):\n",
    "    courses_array[row_index][1] = dept_code\n",
    "\n",
    "# Printing the updated array\n",
    "for row in courses_array:\n",
    "    print(row)"
   ]
  },
  {
   "attachments": {},
   "cell_type": "markdown",
   "metadata": {},
   "source": [
    "Okay, using the classes that I have filled out a dept_code for, I will now make a new array and fill out dummy discussion sections for them."
   ]
  },
  {
   "cell_type": "code",
   "execution_count": null,
   "metadata": {},
   "outputs": [],
   "source": [
    "# Create a new array containing only rows with non-empty second elements\n",
    "discussions_template_array = [row for row in courses_array if row[1] != \"\"]\n",
    "\n",
    "# Print the new array\n",
    "for row in discussions_template_array:\n",
    "    print(row)"
   ]
  },
  {
   "cell_type": "code",
   "execution_count": null,
   "metadata": {},
   "outputs": [],
   "source": [
    "for row in discussions_template_array:\n",
    "    row[5] = \"1A\"\n",
    "\n",
    "for row in discussions_template_array:\n",
    "    print(row)"
   ]
  },
  {
   "cell_type": "code",
   "execution_count": null,
   "metadata": {},
   "outputs": [],
   "source": [
    "discussions_updated_array = []\n",
    "\n",
    "for row in discussions_array:\n",
    "    # Create a duplicate row with the value of the sixth column changed to \"1B\"\n",
    "    duplicate_row_1b = row[:]  # Create a shallow copy of the original row\n",
    "    duplicate_row_1b[5] = \"1B\"  # Update the value of the sixth column to \"1B\"\n",
    "    duplicate_row_1c = row[:]  # Create a shallow copy of the original row\n",
    "    duplicate_row_1c[5] = \"1C\"  # Update the value of the sixth column to \"1B\"\n",
    "    duplicate_row_1d = row[:]  # Create a shallow copy of the original row\n",
    "    duplicate_row_1d[5] = \"1D\"  # Update the value of the sixth column to \"1B\"\n",
    "    \n",
    "    # Append the original row and the duplicate row to the updated array\n",
    "    discussions_updated_array.append(row)\n",
    "    discussions_updated_array.append(duplicate_row_1b)\n",
    "    discussions_updated_array.append(duplicate_row_1c)\n",
    "    discussions_updated_array.append(duplicate_row_1d)\n",
    "\n",
    "for row in discussions_updated_array:\n",
    "    print(row)"
   ]
  },
  {
   "attachments": {},
   "cell_type": "markdown",
   "metadata": {},
   "source": [
    "Now that each class has 4 discussion sections, a dept code, a course code, and a course name, I will assign a dummy variable to be their professor - I will update it with more apt names when adding it to the website.  "
   ]
  },
  {
   "cell_type": "code",
   "execution_count": null,
   "metadata": {},
   "outputs": [],
   "source": [
    "for row in discussions_updated_array:\n",
    "    row[4] = \"Eggert, P.R.\"\n",
    "\n",
    "for row in discussions_updated_array:\n",
    "    print(row)"
   ]
  },
  {
   "attachments": {},
   "cell_type": "markdown",
   "metadata": {},
   "source": [
    "Now, all I need to have some classes completely filled out and ready to populate the database is to give each class a unique course_code.  This will look like the following:\n",
    "\n",
    "2 letters representing the dept_code i.e. CS for COMP SCI\n",
    "5 characters representing the course_num, i.e. 00001 for Introduction to Black Studies\n",
    "2 characters representing the discussion_code i.e. 1C\n"
   ]
  },
  {
   "cell_type": "code",
   "execution_count": 46,
   "metadata": {},
   "outputs": [],
   "source": [
    "for row in discussions_updated_array:\n",
    "    # Extract relevant information from the row\n",
    "    dept_code = row[1]\n",
    "    course_num = row[2]\n",
    "    discussion_code = row[5]\n",
    "    \n",
    "    # Construct the course code\n",
    "    if dept_code == 'COM SCI':\n",
    "        course_code = 'CS' + '0' * (5 - len(course_num)) + course_num + discussion_code\n",
    "    elif dept_code == 'AERO ST':\n",
    "        course_code = 'AS' + '0' * (5 - len(course_num)) + course_num + discussion_code\n",
    "    elif dept_code == 'POLI SCI':\n",
    "        course_code = 'PS' + '0' * (5 - len(course_num)) + course_num + discussion_code\n",
    "    elif dept_code == 'MATH':\n",
    "        course_code = 'MT' + '0' * (5 - len(course_num)) + course_num + discussion_code\n",
    "    elif dept_code == 'AF AMER':\n",
    "        course_code = 'AA' + '0' * (5 - len(course_num)) + course_num + discussion_code\n",
    "        pass\n",
    "\n",
    "    \n",
    "    # Update the first column of the row with the constructed course code\n",
    "    row[0] = course_code\n"
   ]
  },
  {
   "cell_type": "code",
   "execution_count": null,
   "metadata": {},
   "outputs": [],
   "source": [
    "for row in discussions_updated_array:\n",
    "    print(row)"
   ]
  },
  {
   "attachments": {},
   "cell_type": "markdown",
   "metadata": {},
   "source": [
    "below are failed attempts to form regular expressions that capture majors so that I can associate them with courses. "
   ]
  },
  {
   "cell_type": "code",
   "execution_count": 48,
   "metadata": {},
   "outputs": [],
   "source": [
    "unique_first_column_values = {}  # Step 1: Create an empty dictionary\n",
    "\n",
    "unique_rows = []  # Initialize a list to store unique rows\n",
    "\n",
    "# Step 2: Iterate over the array of rows\n",
    "for row in discussions_updated_array:\n",
    "    # Step 3: Check if the value in the first column already exists in the dictionary\n",
    "    if row[0] not in unique_first_column_values:\n",
    "        # Step 4: If the value doesn't exist, add it to the dictionary and keep the row\n",
    "        unique_first_column_values[row[0]] = True\n",
    "        unique_rows.append(row)\n",
    "\n",
    "# Step 5: After processing all rows, the dictionary will contain unique values from the first column.\n",
    "# Step 6: Reconstruct the array with only the unique rows.\n",
    "final_courses_array = unique_rows"
   ]
  },
  {
   "cell_type": "code",
   "execution_count": null,
   "metadata": {},
   "outputs": [],
   "source": [
    "for row in final_courses_array:\n",
    "    print(row)"
   ]
  },
  {
   "cell_type": "code",
   "execution_count": 40,
   "metadata": {},
   "outputs": [],
   "source": [
    "#defining only the sections we need to get the names of the majors\n",
    "major_text = extract_text_from_pdf('/Users/dayfamily/Desktop/UCLA_Catalog_2023-24.pdf', start_page=8, end_page=15)"
   ]
  },
  {
   "cell_type": "code",
   "execution_count": null,
   "metadata": {},
   "outputs": [],
   "source": [
    "major_testing = extract_text_from_pdf('/Users/dayfamily/Desktop/UCLA_Catalog_2023-24.pdf', start_page=185, end_page=200)"
   ]
  },
  {
   "cell_type": "code",
   "execution_count": null,
   "metadata": {},
   "outputs": [],
   "source": [
    "#a regular expression that looks for a specific pattern that matches how the pdf stores info about majors; not completely perfect\n",
    "major_pattern = r'(.+?)\\s*(?:\\nCollege of Letters and Science|$)'\n",
    "\n",
    "major_matches = re.findall(major_pattern, major_testing, re.DOTALL)\n",
    "\n",
    "print(major_matches)"
   ]
  }
 ],
 "metadata": {
  "kernelspec": {
   "display_name": "Python 3",
   "language": "python",
   "name": "python3"
  },
  "language_info": {
   "codemirror_mode": {
    "name": "ipython",
    "version": 3
   },
   "file_extension": ".py",
   "mimetype": "text/x-python",
   "name": "python",
   "nbconvert_exporter": "python",
   "pygments_lexer": "ipython3",
   "version": "3.11.2"
  },
  "orig_nbformat": 4,
  "vscode": {
   "interpreter": {
    "hash": "aee8b7b246df8f9039afb4144a1f6fd8d2ca17a180786b69acc140d282b71a49"
   }
  }
 },
 "nbformat": 4,
 "nbformat_minor": 2
}
